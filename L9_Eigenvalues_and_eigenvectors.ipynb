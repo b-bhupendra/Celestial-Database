{
  "nbformat": 4,
  "nbformat_minor": 0,
  "metadata": {
    "colab": {
      "provenance": [],
      "authorship_tag": "ABX9TyOtxxeN0HCo+OGIwsEH6PW1",
      "include_colab_link": true
    },
    "kernelspec": {
      "name": "python3",
      "display_name": "Python 3"
    },
    "language_info": {
      "name": "python"
    }
  },
  "cells": [
    {
      "cell_type": "markdown",
      "metadata": {
        "id": "view-in-github",
        "colab_type": "text"
      },
      "source": [
        "<a href=\"https://colab.research.google.com/github/b-bhupendra/Celestial-Database/blob/main/L9_Eigenvalues_and_eigenvectors.ipynb\" target=\"_parent\"><img src=\"https://colab.research.google.com/assets/colab-badge.svg\" alt=\"Open In Colab\"/></a>"
      ]
    },
    {
      "cell_type": "code",
      "execution_count": 1,
      "metadata": {
        "id": "UIUxW3yZS1Fh"
      },
      "outputs": [],
      "source": [
        "import numpy as np"
      ]
    },
    {
      "cell_type": "code",
      "source": [
        "A = np.array([[2,-2,3],[1,1,1],[1,3,-1]])"
      ],
      "metadata": {
        "id": "lisd1N4kS9ym"
      },
      "execution_count": 3,
      "outputs": []
    },
    {
      "cell_type": "code",
      "source": [
        "# calculate eigenpairs\n",
        "def print_eig_val_vect(A):\n",
        "    values, vectors = np.linalg.eig(A)\n",
        "    print(values)\n",
        "    print(vectors) # these are vectors of unit length"
      ],
      "metadata": {
        "id": "JoIEdHUsTEDR"
      },
      "execution_count": 11,
      "outputs": []
    },
    {
      "cell_type": "code",
      "source": [],
      "metadata": {
        "id": "IOlLMabjTiIg"
      },
      "execution_count": null,
      "outputs": []
    },
    {
      "cell_type": "code",
      "source": [
        "A = np.array([[2,0,0],[0,1,0],[0,0,-1]])\n",
        "print_eig_val_vect(A)"
      ],
      "metadata": {
        "colab": {
          "base_uri": "https://localhost:8080/"
        },
        "id": "1yOV8ACzTkmH",
        "outputId": "2b5d9a83-fde7-4fe0-e2fe-d6ef9d3efcde"
      },
      "execution_count": 13,
      "outputs": [
        {
          "output_type": "stream",
          "name": "stdout",
          "text": [
            "[ 2.  1. -1.]\n",
            "[[1. 0. 0.]\n",
            " [0. 1. 0.]\n",
            " [0. 0. 1.]]\n"
          ]
        }
      ]
    },
    {
      "cell_type": "code",
      "source": [],
      "metadata": {
        "id": "F8IRQ0f1UKHB"
      },
      "execution_count": null,
      "outputs": []
    }
  ]
}